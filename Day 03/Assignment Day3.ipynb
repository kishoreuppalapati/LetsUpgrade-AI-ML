{
 "cells": [
  {
   "cell_type": "code",
   "execution_count": 1,
   "metadata": {},
   "outputs": [
    {
     "name": "stdout",
     "output_type": "stream",
     "text": [
      "Subtraction of two complex number= (2-7j)\n"
     ]
    }
   ],
   "source": [
    "# Question 1. Write a program to subtract two complex numbers in Python.\n",
    "\n",
    "cmplno1 = 3 + 7j\n",
    "cmplno2 = 1 + 14j\n",
    "print('Subtraction of two complex number=', cmplno1 - cmplno2)"
   ]
  },
  {
   "cell_type": "code",
   "execution_count": 2,
   "metadata": {},
   "outputs": [
    {
     "name": "stdout",
     "output_type": "stream",
     "text": [
      "fourth root of number 2 is : 16\n"
     ]
    }
   ],
   "source": [
    "# Question 2. Write a program to find the fourth root of a number.\n",
    "\n",
    "num=2\n",
    "print(\"fourth root of number 2 is :\",2**4)\n"
   ]
  },
  {
   "cell_type": "code",
   "execution_count": 3,
   "metadata": {},
   "outputs": [
    {
     "name": "stdout",
     "output_type": "stream",
     "text": [
      "Value of x: 60\n",
      "Value of y: 20\n"
     ]
    }
   ],
   "source": [
    "# Question Q3. Write a program to swap two numbers in Python with the help of a temporary variable\n",
    "\n",
    "x = 20\n",
    "y = 60\n",
    "  \n",
    "# Swapping of two variables  Using temporary variable \n",
    "\n",
    "temp = x \n",
    "x = y \n",
    "y = temp \n",
    "  \n",
    "print(\"Value of x:\", x) \n",
    "print(\"Value of y:\", y) "
   ]
  },
  {
   "cell_type": "code",
   "execution_count": 8,
   "metadata": {},
   "outputs": [
    {
     "name": "stdout",
     "output_type": "stream",
     "text": [
      "Swapped values of x and y are  (20, 10)\n"
     ]
    }
   ],
   "source": [
    "# Question 4.Write a program to swap two numbers in Python without using a temporary variable.\n",
    "\n",
    "#taking the input from the user\n",
    "a = 10\n",
    "b = 20\n",
    "\n",
    "#swapping using arithmetic operators + & -\n",
    "a = a + b\n",
    "b = a - b\n",
    "a = a - b\n",
    "\n",
    "#printing the output\n",
    "print(\"Swapped values of x and y are \" , (a,b))"
   ]
  },
  {
   "cell_type": "code",
   "execution_count": 9,
   "metadata": {},
   "outputs": [
    {
     "name": "stdout",
     "output_type": "stream",
     "text": [
      "fahrenheit to kelvin ( K ) = 311.278\n",
      "fahrenheit to celsius (C) = 37.77777777777778\n"
     ]
    }
   ],
   "source": [
    "# Question 5. Write a program to convert fahrenheit to kelvin and celsius both.\n",
    "\n",
    "# Function to convert fahrenheit to kelvin \n",
    "def Fahrenheit_to_Kelvin_Converter(F): \n",
    "    return 273.5 + ((F - 32.0) * (5.0/9.0)) \n",
    "  \n",
    "# Driver function \n",
    "F = 100\n",
    "print(\"fahrenheit to kelvin ( K ) = {:.3f}\" \n",
    "            .format(Fahrenheit_to_Kelvin_Converter( F ))) \n",
    "\n",
    "celsius = (F-32)/1.8;\n",
    "print(\"fahrenheit to celsius (C) =\",celsius);"
   ]
  },
  {
   "cell_type": "code",
   "execution_count": 6,
   "metadata": {},
   "outputs": [
    {
     "name": "stdout",
     "output_type": "stream",
     "text": [
      "Type of a:  <class 'int'>\n",
      "\n",
      "Type of b:  <class 'float'>\n",
      "\n",
      "Type of c:  <class 'complex'>\n",
      "\n",
      "String with the use of Double Quotes: \n",
      "I'm a python developer\n",
      "<class 'str'>\n",
      "\n",
      "List with the use of String: \n",
      "['python']\n",
      "<class 'list'>\n",
      "test\n",
      "<class 'str'>\n",
      "<class 'bool'>\n",
      "<class 'bool'>\n"
     ]
    }
   ],
   "source": [
    "# Question 6. Write a program to demonstrate all the available data types in Python. Hint: Use type() function. \n",
    "\n",
    "  \n",
    "a = 5\n",
    "print(\"Type of a: \", type(a)) \n",
    "  \n",
    "b = 5.0\n",
    "print(\"\\nType of b: \", type(b)) \n",
    "  \n",
    "c = 2 + 4j\n",
    "print(\"\\nType of c: \", type(c)) \n",
    "\n",
    "\n",
    "String1 = \"I'm a python developer\"\n",
    "print(\"\\nString with the use of Double Quotes: \")  \n",
    "print(String1)  \n",
    "print(type(String1))\n",
    "\n",
    "List = ['python']  \n",
    "print(\"\\nList with the use of String: \")  \n",
    "print(List) \n",
    "print(type(List))\n",
    "\n",
    "\n",
    "Tuple1 = (\"test\")  \n",
    "print (Tuple1)\n",
    "print(type(Tuple1))\n",
    "\n",
    "\n",
    "print(type(True)) \n",
    "print(type(False))"
   ]
  },
  {
   "cell_type": "markdown",
   "metadata": {},
   "source": [
    "# Question 7: Create a Markdown cell in jupyter and list the steps discussed in the session by Dr. Darshan Ingle sir to create Github profile and upload Githubs Assignment link.\n",
    "\n",
    "\n",
    "1.fist go to the github and create a account similar like signing into gmail account.\n",
    "2.create a Repositories name as LetsUpgrade AI/ML and here select upload a exsting file and drag the DAY3 folder into this which has the assignment and commit changes.\n",
    "3.After that we can oprn the assignment file and check wheter its oping or not by clicking on it.\n",
    "5.And also we can check it by clicking on setting button of the browsers new incognito window it will open new window copy your path and check if you are code is opning then its fine.\n",
    "4.Now copy the path  till Day3 and fill the assignment form.\n",
    "\n",
    "\n",
    "\n",
    "\n",
    "\n"
   ]
  }
 ],
 "metadata": {
  "kernelspec": {
   "display_name": "Python 3",
   "language": "python",
   "name": "python3"
  },
  "language_info": {
   "codemirror_mode": {
    "name": "ipython",
    "version": 3
   },
   "file_extension": ".py",
   "mimetype": "text/x-python",
   "name": "python",
   "nbconvert_exporter": "python",
   "pygments_lexer": "ipython3",
   "version": "3.7.6"
  }
 },
 "nbformat": 4,
 "nbformat_minor": 4
}
