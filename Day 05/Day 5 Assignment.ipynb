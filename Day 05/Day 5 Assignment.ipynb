{
 "cells": [
  {
   "cell_type": "code",
   "execution_count": 1,
   "metadata": {},
   "outputs": [
    {
     "name": "stdout",
     "output_type": "stream",
     "text": [
      "Prime numbers between 0 and 20 are:\n",
      "3\n",
      "5\n",
      "7\n",
      "11\n",
      "13\n",
      "17\n",
      "19\n"
     ]
    }
   ],
   "source": [
    "\"\"\"\n",
    "Q 1Write a Python program to find the first 20 non-even prime natural numbers.\n",
    "\"\"\"\n",
    "\n",
    "lower = 0\n",
    "upper = 20\n",
    "\n",
    "print(\"Prime numbers between\", lower, \"and\", upper, \"are:\")\n",
    "\n",
    "for num in range(lower, upper):\n",
    "   # all prime numbers are greater than 1\n",
    "   if num > 1:\n",
    "       for i in range(2, num):\n",
    "           if (num % i) == 0:\n",
    "               break\n",
    "       else:\n",
    "           if num != 2 :\n",
    "            print(num)"
   ]
  },
  {
   "cell_type": "code",
   "execution_count": 12,
   "metadata": {},
   "outputs": [
    {
     "name": "stdout",
     "output_type": "stream",
     "text": [
      "capitalize fun : Python\n",
      "isalpha fun : True\n",
      "isdigit fun: False\n",
      "islower fun : True\n",
      "isdecimal fun : False\n",
      "isnumeric fun: False\n",
      "isprintable fun: True\n",
      "isspace fun False\n",
      "istitle fun: False\n",
      "upper fun: PYTHON\n",
      "swapcase fun: PYTHON\n",
      "count fun: 1\n",
      "lower fun: python\n",
      "end fun: False\n",
      " 1\n"
     ]
    }
   ],
   "source": [
    "#Q2 :Write a Python program to implement 15 functions of string.\n",
    "\n",
    "str=\"python\"\n",
    "print(\"capitalize fun :\",str.capitalize())\n",
    "print(\"isalpha fun :\",str.isalpha())\n",
    "print(\"isdigit fun:\",str.isdigit())\n",
    "print(\"islower fun :\",str.islower())\n",
    "print(\"isdecimal fun :\",str.isdecimal())\n",
    "print(\"isnumeric fun:\",str.isnumeric())\n",
    "print(\"isprintable fun:\",str.isprintable())\n",
    "print(\"isspace fun\",str.isspace())\n",
    "print(\"istitle fun:\",str.istitle())\n",
    "print(\"upper fun:\",str.upper())\n",
    "print(\"swapcase fun:\",str.swapcase())\n",
    "print(\"count fun:\",str.count(\"p\"))\n",
    "print(\"lower fun:\",str.lower())\n",
    "print(\"end fun:\",str.endswith(\"g\"))\n",
    "print(\"find fun:\",str.find(\"y\"))\n",
    "\n",
    "\n"
   ]
  },
  {
   "cell_type": "code",
   "execution_count": 5,
   "metadata": {},
   "outputs": [
    {
     "name": "stdout",
     "output_type": "stream",
     "text": [
      "Enter String 1:anagram\n",
      "Enter String 1:nagaram\n",
      "The string is a anagram\n"
     ]
    }
   ],
   "source": [
    "\"\"\"Q 3:\n",
    "Write a Python program to check if the given string is a Palindrome or Anagram or None of them.\n",
    "Display the message accordingly to the user.\"\"\"\n",
    "\n",
    "my_str = input(\"Enter String 1:\")\n",
    "my_str1 = input(\"Enter String 1:\")\n",
    "\n",
    "# make it suitable for caseless comparison\n",
    "my_str = my_str.casefold()\n",
    "\n",
    "# reverse the string\n",
    "rev_str = reversed(my_str)\n",
    "def is_anagram(str1, str2):\n",
    "    list_str1 = list(str1)\n",
    "    list_str1.sort()\n",
    "    list_str2 = list(str2)\n",
    "    list_str2.sort()\n",
    "\n",
    "    return (list_str1 == list_str2)\n",
    "\n",
    "# check if the string is equal to its reverse\n",
    "if list(my_str) == list(rev_str):\n",
    "   print(\"The string is a palindrome.\")\n",
    "elif is_anagram(my_str,my_str1):\n",
    "    print(\"The string is a anagram\")\n",
    "else:\n",
    "   print(\"None of them\")"
   ]
  },
  {
   "cell_type": "code",
   "execution_count": 16,
   "metadata": {},
   "outputs": [
    {
     "name": "stdout",
     "output_type": "stream",
     "text": [
      "abcaaadddd\n"
     ]
    }
   ],
   "source": [
    "\n",
    "\"\"\"\n",
    "Q 4:\n",
    "Write a Python's user defined function that removes all the additional characters from the string\n",
    "and converts it finally to lower case using built-in lower(). eg: If the string is \"Dr. Darshan Ingle\n",
    "@AI-ML Trainer\", then the output be \"drdarshaningle aimltrainer\".\n",
    "\"\"\"\n",
    "a_string = \"Abc !? aaaDDDD\"\n",
    "\n",
    "\n",
    "def onlychar():\n",
    "    alphanumeric = \"\"\n",
    "    for character in a_string:\n",
    "        if character.isalnum():\n",
    "            alphanumeric += character\n",
    "    print(alphanumeric.lower())\n",
    "\n",
    "\n",
    "\n",
    "onlychar()"
   ]
  },
  {
   "cell_type": "code",
   "execution_count": null,
   "metadata": {},
   "outputs": [],
   "source": []
  }
 ],
 "metadata": {
  "kernelspec": {
   "display_name": "Python 3",
   "language": "python",
   "name": "python3"
  },
  "language_info": {
   "codemirror_mode": {
    "name": "ipython",
    "version": 3
   },
   "file_extension": ".py",
   "mimetype": "text/x-python",
   "name": "python",
   "nbconvert_exporter": "python",
   "pygments_lexer": "ipython3",
   "version": "3.7.6"
  },
  "toc": {
   "base_numbering": 1,
   "nav_menu": {},
   "number_sections": true,
   "sideBar": true,
   "skip_h1_title": false,
   "title_cell": "Table of Contents",
   "title_sidebar": "Contents",
   "toc_cell": false,
   "toc_position": {},
   "toc_section_display": true,
   "toc_window_display": false
  }
 },
 "nbformat": 4,
 "nbformat_minor": 4
}
