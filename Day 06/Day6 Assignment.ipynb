{
 "cells": [
  {
   "cell_type": "code",
   "execution_count": 3,
   "metadata": {},
   "outputs": [
    {
     "name": "stdout",
     "output_type": "stream",
     "text": [
      "Enter the Email Id:wer@zdfshdufhifaasd.com\n",
      "zdfshdufhifaasd"
     ]
    }
   ],
   "source": [
    "\"\"\"\n",
    "Question 1:\n",
    "Assuming that we have some email addresses in the \"username@companyname.com\" format, please write program\n",
    "to print the company name of a given email address. Both user names and company names are composed of letters\n",
    "only.\n",
    "\n",
    "\"\"\"\n",
    "EmailID=input(\"Enter the Email Id:\")\n",
    "x=EmailID.index(\"@\")\n",
    "print(EmailID[x+1:len(EmailID)-4],end = '')"
   ]
  },
  {
   "cell_type": "code",
   "execution_count": 7,
   "metadata": {},
   "outputs": [
    {
     "name": "stdout",
     "output_type": "stream",
     "text": [
      "enter data to sortdf,ty,e,w\n",
      "Sorted data are  df ,e ,ty ,w\n"
     ]
    }
   ],
   "source": [
    "\"\"\"\n",
    "Question 2: Write a program that accepts a comma-separated sequence of words as input and prints the words in a comma separated sequence after sorting them alphabetically. \n",
    " \n",
    "Input Format: The first line of input contains words separated by the comma. Output Format: Print the sorted words separated by the comma. Example: Input: without,hello,bag,world Output: bag,hello,without,world\n",
    "\n",
    "\"\"\"\n",
    "\n",
    "\n",
    "data=[x for x in input(\"enter data to sort\").split(',')]\n",
    "data.sort()\n",
    "print (\"Sorted data are \",' ,'.join(data))"
   ]
  },
  {
   "cell_type": "code",
   "execution_count": 8,
   "metadata": {},
   "outputs": [
    {
     "name": "stdout",
     "output_type": "stream",
     "text": [
      "{'banana', 'apple', 'orange'}\n",
      "banana\n",
      "apple\n",
      "orange\n",
      "True\n",
      "False\n",
      "{'banana', 'apple', 'orange', 'gova'}\n"
     ]
    }
   ],
   "source": [
    "\"\"\"\n",
    "Question 3: Create your own Jupyter Notebook for Sets. Reference link: https://www.w3schools.com/python/python_sets.asp \n",
    "\n",
    "\n",
    "\"\"\"\n",
    "\n",
    "setexp = {\"apple\", \"orange\", \"banana\"}\n",
    "print(setexp)\n",
    "\n",
    "\n",
    "for x in setexp:\n",
    "  print(x)\n",
    "\n",
    "print(\"banana\" in setexp)\n",
    "print(\"India\" in setexp)\n",
    "\n",
    "\n",
    "\n",
    "setexp.add(\"gova\")\n",
    "\n",
    "print(setexp)"
   ]
  },
  {
   "cell_type": "code",
   "execution_count": 10,
   "metadata": {},
   "outputs": [
    {
     "name": "stdout",
     "output_type": "stream",
     "text": [
      "The missing numbers are : [2, 5, 6, 8]\n"
     ]
    }
   ],
   "source": [
    "\"\"\"\n",
    "Question 4:  Given a list of n-1 numbers ranging from 1 to n, your task is to find the missing number. There are no duplicates. \n",
    " \n",
    "Input Format: The first line contains n-1 numbers with each number separated by a space. Output Format: Print the missing number Example: Input:1 2 4 6 3 7 8 Output:5 \n",
    " \n",
    "Explanation: In the above list of numbers 5 is missing and hence 5 is the input \n",
    "\n",
    "\n",
    "\n",
    "\"\"\"\n",
    "\n",
    "def find_missing(lst): \n",
    "    return [x for x in range(lst[0], lst[-1]+1)  \n",
    "                               if x not in lst] \n",
    "  \n",
    "# Driver code \n",
    "lst = [1, 3,4, 7, 9, 10] \n",
    "print(\"The missing numbers are :\",find_missing(lst)) \n",
    "\n"
   ]
  },
  {
   "cell_type": "code",
   "execution_count": 12,
   "metadata": {},
   "outputs": [
    {
     "name": "stdout",
     "output_type": "stream",
     "text": [
      "[2, 3, 5, 4, 6]\n"
     ]
    }
   ],
   "source": [
    "\"\"\"\n",
    "Question 5: With a given list L, write a program to print this list L after removing all duplicate values with original order reserved. \n",
    " \n",
    "Example: If the input list is 12 24 35 24 88 120 155 88 120 155 \n",
    " \n",
    "Then the output should be 12 24 35 88 120 155 \n",
    " \n",
    "Explanation: Third, seventh and ninth element of the list L has been removed because it was already present. Input Format: In one line take the elements of the list L with each element separated by a space. Output Format: Print the elements of the modified list in one line with each element separated by a space. Example: Input: 12 24 35 24 Output: 12 24 35 \n",
    "\n",
    "\"\"\"\n",
    "\n",
    "\n",
    "a = [2, 3, 3, 2, 5, 4, 4, 6]\n",
    " \n",
    "b = []\n",
    " \n",
    "for i in a:\n",
    "    # Add to the new list\n",
    "    # only if not present\n",
    "    if i not in b:\n",
    "        b.append(i)\n",
    " \n",
    "print(b)"
   ]
  },
  {
   "cell_type": "code",
   "execution_count": null,
   "metadata": {},
   "outputs": [],
   "source": []
  }
 ],
 "metadata": {
  "kernelspec": {
   "display_name": "Python 3",
   "language": "python",
   "name": "python3"
  },
  "language_info": {
   "codemirror_mode": {
    "name": "ipython",
    "version": 3
   },
   "file_extension": ".py",
   "mimetype": "text/x-python",
   "name": "python",
   "nbconvert_exporter": "python",
   "pygments_lexer": "ipython3",
   "version": "3.7.6"
  },
  "toc": {
   "base_numbering": 1,
   "nav_menu": {},
   "number_sections": true,
   "sideBar": true,
   "skip_h1_title": false,
   "title_cell": "Table of Contents",
   "title_sidebar": "Contents",
   "toc_cell": false,
   "toc_position": {},
   "toc_section_display": true,
   "toc_window_display": false
  }
 },
 "nbformat": 4,
 "nbformat_minor": 4
}
