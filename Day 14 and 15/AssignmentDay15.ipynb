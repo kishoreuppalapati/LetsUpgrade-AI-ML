{
 "cells": [
  {
   "cell_type": "code",
   "execution_count": 1,
   "metadata": {},
   "outputs": [
    {
     "name": "stdout",
     "output_type": "stream",
     "text": [
      "3x3x3 array with random values [[[0.17608374 0.53392454 0.59778188]\n",
      "  [0.91255247 0.95768463 0.74709564]\n",
      "  [0.26756221 0.25348046 0.25101471]]\n",
      "\n",
      " [[0.34365914 0.86526237 0.50185223]\n",
      "  [0.25716426 0.12125145 0.80003062]\n",
      "  [0.72722187 0.47910672 0.55449549]]\n",
      "\n",
      " [[0.11874584 0.68263881 0.3658785 ]\n",
      "  [0.35861    0.13070638 0.49459784]\n",
      "  [0.76035765 0.86876489 0.42080286]]]\n"
     ]
    }
   ],
   "source": [
    "\n",
    "#1. Create a 3x3x3 array with random values\n",
    "\n",
    "\n",
    "\n",
    "import numpy as np\n",
    "a = np.random.random((3,3,3))\n",
    "print(\"3x3x3 array with random values\",a)\n"
   ]
  },
  {
   "cell_type": "code",
   "execution_count": 2,
   "metadata": {},
   "outputs": [
    {
     "name": "stdout",
     "output_type": "stream",
     "text": [
      "5x5 matrix with values 1,2,3,4,5 just below the diagonal [[1 0 0 0 0]\n",
      " [0 2 0 0 0]\n",
      " [0 0 3 0 0]\n",
      " [0 0 0 4 0]\n",
      " [0 0 0 0 5]]\n"
     ]
    }
   ],
   "source": [
    "#2.Create a 5x5 matrix with values 1,2,3,4 just below the diagonal\n",
    "\n",
    "\n",
    "import numpy as np\n",
    "a= np.diag([1, 2, 3, 4, 5])\n",
    "print(\"5x5 matrix with values 1,2,3,4,5 just below the diagonal\",a)"
   ]
  },
  {
   "cell_type": "code",
   "execution_count": 3,
   "metadata": {},
   "outputs": [
    {
     "name": "stdout",
     "output_type": "stream",
     "text": [
      "Checkerboard pattern is :\n",
      "[[0 1 0 1 0 1 0 1]\n",
      " [1 0 1 0 1 0 1 0]\n",
      " [0 1 0 1 0 1 0 1]\n",
      " [1 0 1 0 1 0 1 0]\n",
      " [0 1 0 1 0 1 0 1]\n",
      " [1 0 1 0 1 0 1 0]\n",
      " [0 1 0 1 0 1 0 1]\n",
      " [1 0 1 0 1 0 1 0]]\n"
     ]
    }
   ],
   "source": [
    "#3.Create a 8x8 matrix and fill it with a checkerboard pattern\n",
    "import numpy as np\n",
    "a= np.ones((8,8))\n",
    "print(\"Checkerboard pattern is :\")\n",
    "a = np.zeros((8,8),dtype=int)\n",
    "a[1::2,::2] = 1\n",
    "a[::2,1::2] = 1\n",
    "print(a)"
   ]
  },
  {
   "cell_type": "code",
   "execution_count": 4,
   "metadata": {},
   "outputs": [
    {
     "name": "stdout",
     "output_type": "stream",
     "text": [
      "Original Array:\n",
      "[[0.78106036 0.15340984 0.40426982 0.86012235 0.57694925]\n",
      " [0.26656921 0.46740924 0.03771516 0.10558207 0.45320196]\n",
      " [0.62066156 0.58156455 0.81942763 0.1824461  0.50901716]\n",
      " [0.96750839 0.75154575 0.35047463 0.1079256  0.6000149 ]\n",
      " [0.46656102 0.00786528 0.96831935 0.16658864 0.14851452]]\n",
      "After normalization:\n",
      "[[0.80503077 0.15153724 0.41272619 0.88734808 0.59251555]\n",
      " [0.26935586 0.47846532 0.03107893 0.1017402  0.46367306]\n",
      " [0.63802768 0.59732088 0.84497778 0.18176905 0.52178641]\n",
      " [0.99915565 0.77430092 0.35671602 0.10418022 0.61653091]\n",
      " [0.47758217 0.         1.         0.16525866 0.14644036]]\n"
     ]
    }
   ],
   "source": [
    "#4.Normalize a 5x5 random matrix\n",
    "\n",
    "import numpy as np\n",
    "x= np.random.random((5,5))\n",
    "print(\"Original Array:\")\n",
    "print(x)\n",
    "xmax, xmin = x.max(), x.min()\n",
    "x = (x - xmin)/(xmax - xmin)\n",
    "print(\"After normalization:\")\n",
    "print(x)\n"
   ]
  },
  {
   "cell_type": "code",
   "execution_count": 6,
   "metadata": {},
   "outputs": [
    {
     "name": "stdout",
     "output_type": "stream",
     "text": [
      "Array1:  [40 50 80 90]\n",
      "Array2:  [50, 80, 90]\n",
      "Common values between two arrays:\n",
      "[50 80 90]\n"
     ]
    }
   ],
   "source": [
    "#5.How to find common values between two arrays\n",
    "import numpy as np\n",
    "array1 = np.array([40, 50, 80, 90])\n",
    "print(\"Array1: \",array1)\n",
    "array2 = [50, 80, 90]\n",
    "print(\"Array2: \",array2)\n",
    "print(\"Common values between two arrays:\")\n",
    "print(np.intersect1d(array1, array2))"
   ]
  },
  {
   "cell_type": "code",
   "execution_count": 7,
   "metadata": {},
   "outputs": [
    {
     "name": "stdout",
     "output_type": "stream",
     "text": [
      "Yestraday:  2020-07-24\n",
      "Today:  2020-07-25\n",
      "Tomorrow:  2020-07-26\n"
     ]
    }
   ],
   "source": [
    "#6.How to get the dates of yesterday, today and tomorrow\n",
    "import numpy as np\n",
    "yesterday = np.datetime64('today', 'D') - np.timedelta64(1, 'D')\n",
    "print(\"Yestraday: \",yesterday)\n",
    "today     = np.datetime64('today', 'D')\n",
    "print(\"Today: \",today)\n",
    "tomorrow  = np.datetime64('today', 'D') + np.timedelta64(1, 'D')\n",
    "print(\"Tomorrow: \",tomorrow)"
   ]
  },
  {
   "cell_type": "code",
   "execution_count": 13,
   "metadata": {},
   "outputs": [
    {
     "name": "stdout",
     "output_type": "stream",
     "text": [
      "First array:\n",
      "[1 0 1 1 0 1]\n",
      "Second array:\n",
      "[2 0 2 3 0 2]\n",
      "Test above two arrays are equal or not!\n",
      "False\n"
     ]
    }
   ],
   "source": [
    "#7.Consider two random array A and B, check if they are equal\n",
    "import numpy as np\n",
    "x = np.random.randint(0,2,6)\n",
    "print(\"First array:\")\n",
    "print(x)\n",
    "y = np.random.randint(0,4,6)\n",
    "print(\"Second array:\")\n",
    "print(y)\n",
    "print(\"Test above two arrays are equal or not!\")\n",
    "array_equal = np.allclose(x, y)\n",
    "print(array_equal)"
   ]
  },
  {
   "cell_type": "code",
   "execution_count": 14,
   "metadata": {},
   "outputs": [
    {
     "name": "stdout",
     "output_type": "stream",
     "text": [
      "Original array:\n",
      "[0.49884023 0.21571117 0.74057891 0.49069791 0.65468527 0.77909957\n",
      " 0.63961293 0.31385848 0.48000965 0.63151339]\n",
      "Maximum value replaced by 0:\n",
      "[0.49884023 0.21571117 0.74057891 0.49069791 0.65468527 0.\n",
      " 0.63961293 0.31385848 0.48000965 0.63151339]\n"
     ]
    }
   ],
   "source": [
    "#8.Create random vector of size 10 and replace the maximum value by 0\n",
    "import numpy as np\n",
    "x = np.random.random(10)\n",
    "print(\"Original array:\")\n",
    "print(x)\n",
    "x[x.argmax()] =0\n",
    "print(\"Maximum value replaced by 0:\")\n",
    "print(x)"
   ]
  },
  {
   "cell_type": "code",
   "execution_count": 16,
   "metadata": {},
   "outputs": [
    {
     "name": "stdout",
     "output_type": "stream",
     "text": [
      "[0 1 2 3 4 5 6 7 8 9]\n"
     ]
    }
   ],
   "source": [
    "#9. How to print all the values of an array?\n",
    "\n",
    "import numpy as np\n",
    "import sys\n",
    "nums = np.arange(10)\n",
    "np.set_printoptions(threshold=sys.maxsize)\n",
    "print(nums)"
   ]
  },
  {
   "cell_type": "code",
   "execution_count": 18,
   "metadata": {},
   "outputs": [
    {
     "name": "stdout",
     "output_type": "stream",
     "text": [
      "Original matrix:\n",
      "\n",
      "[[0.31041931 0.90488925 0.07765624 0.60600428 0.06973621]\n",
      " [0.82918128 0.07761658 0.11504492 0.19314736 0.31448979]\n",
      " [0.56211113 0.47921558 0.79607839 0.18081699 0.8352868 ]\n",
      " [0.7218805  0.19577753 0.33605738 0.76298406 0.79050666]\n",
      " [0.45725244 0.42782836 0.00317382 0.04420998 0.48966722]]\n",
      "\n",
      "Subtract the mean of each row of the said matrix:\n",
      "\n",
      "[[-0.08332175  0.51114819 -0.31608482  0.21226322 -0.32400485]\n",
      " [ 0.5232853  -0.22827941 -0.19085106 -0.11274863  0.0085938 ]\n",
      " [-0.00859064 -0.0914862   0.22537661 -0.38988478  0.26458502]\n",
      " [ 0.16043928 -0.3656637  -0.22538385  0.20154283  0.22906544]\n",
      " [ 0.17282608  0.143402   -0.28125255 -0.24021638  0.20524085]]\n"
     ]
    }
   ],
   "source": [
    "# 10.Subtract the mean of each row of a matrix\n",
    "import numpy as np\n",
    "print(\"Original matrix:\\n\")\n",
    "X = np.random.rand(5, 5)\n",
    "print(X)\n",
    "print(\"\\nSubtract the mean of each row of the said matrix:\\n\")\n",
    "Y = X - X.mean(axis=1, keepdims=True)\n",
    "print(Y)"
   ]
  },
  {
   "cell_type": "code",
   "execution_count": 20,
   "metadata": {},
   "outputs": [
    {
     "name": "stdout",
     "output_type": "stream",
     "text": [
      "[ 74 175  36]\n"
     ]
    }
   ],
   "source": [
    "#11.Consider a given vector, how to add 1 to each element indexed by a second vector (be careful with repeated indices)?\n",
    "\n",
    "import numpy as np\n",
    "A = np.array([4,5,36])\n",
    "B = np.array([70,80,90])\n",
    "I = np.array([0,1,1])\n",
    "np.add.at(A, I, B)\n",
    "print(A)"
   ]
  },
  {
   "cell_type": "code",
   "execution_count": 23,
   "metadata": {},
   "outputs": [
    {
     "name": "stdout",
     "output_type": "stream",
     "text": [
      "[[ 0 21]\n",
      " [ 0  6]]\n",
      "[0 6]\n"
     ]
    }
   ],
   "source": [
    "# 12.How to get the diagonal of a dot product?\n",
    "import numpy as np\n",
    "a = np.random.randint(0, 5, (2,2))\n",
    "b = np.random.randint(0, 5, (2,2))\n",
    "\n",
    "print(a.dot(b))\n",
    "\n",
    "np.diagonal(a.dot(b))\n",
    "print(np.einsum('ij,ji->i', a,b))"
   ]
  },
  {
   "cell_type": "code",
   "execution_count": 24,
   "metadata": {},
   "outputs": [
    {
     "name": "stdout",
     "output_type": "stream",
     "text": [
      "Original array:\n",
      "[14 10 10 12 10 12 17 11 15 15 10 14 14 10 19 15 17 14 15 11 11 14 17 13\n",
      " 17 15 17 14 18 14 10 14 18 16 12 19 12 18 15 10]\n",
      "Most frequent value in the above array:\n",
      "14\n"
     ]
    }
   ],
   "source": [
    "#13.How to find the most frequent value in an array\n",
    "import numpy as np\n",
    "x = np.random.randint(10, 20, 40)\n",
    "print(\"Original array:\")\n",
    "print(x)\n",
    "print(\"Most frequent value in the above array:\")\n",
    "print(np.bincount(x).argmax())"
   ]
  },
  {
   "cell_type": "code",
   "execution_count": 25,
   "metadata": {},
   "outputs": [
    {
     "name": "stdout",
     "output_type": "stream",
     "text": [
      "Original array:\n",
      "[0 1 2 3 4]\n",
      "[4]\n"
     ]
    }
   ],
   "source": [
    "#14.How to get the n largest values of an array\n",
    "import numpy as np\n",
    "x = np.arange(5)\n",
    "print(\"Original array:\")\n",
    "print(x)\n",
    "np.random.shuffle(x)\n",
    "n = 1\n",
    "print (x[np.argsort(x)[-n:]])"
   ]
  },
  {
   "cell_type": "code",
   "execution_count": 28,
   "metadata": {},
   "outputs": [
    {
     "name": "stdout",
     "output_type": "stream",
     "text": [
      "(1, 'apple', 10)\n",
      "(2, 'banana', 40)\n",
      "(3, 'gova', 20)\n"
     ]
    }
   ],
   "source": [
    "#15.How to create a record array from a regular array\n",
    "\n",
    "import numpy as np\n",
    "a1=np.array([1,2,3,4])\n",
    "a2=np.array(['apple','banana','gova','grapes'])\n",
    "a3=np.array([10,40,20,80])\n",
    "result= np.core.records.fromarrays([a1, a2, a3],names='a,b,c')\n",
    "print(result[0])\n",
    "print(result[1])\n",
    "print(result[2])\n"
   ]
  },
  {
   "cell_type": "code",
   "execution_count": null,
   "metadata": {},
   "outputs": [],
   "source": []
  }
 ],
 "metadata": {
  "kernelspec": {
   "display_name": "Python 3",
   "language": "python",
   "name": "python3"
  },
  "language_info": {
   "codemirror_mode": {
    "name": "ipython",
    "version": 3
   },
   "file_extension": ".py",
   "mimetype": "text/x-python",
   "name": "python",
   "nbconvert_exporter": "python",
   "pygments_lexer": "ipython3",
   "version": "3.7.6"
  },
  "toc": {
   "base_numbering": 1,
   "nav_menu": {},
   "number_sections": true,
   "sideBar": true,
   "skip_h1_title": false,
   "title_cell": "Table of Contents",
   "title_sidebar": "Contents",
   "toc_cell": false,
   "toc_position": {},
   "toc_section_display": true,
   "toc_window_display": false
  }
 },
 "nbformat": 4,
 "nbformat_minor": 4
}
