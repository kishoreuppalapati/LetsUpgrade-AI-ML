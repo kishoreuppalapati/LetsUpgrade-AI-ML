{
 "cells": [
  {
   "cell_type": "code",
   "execution_count": 57,
   "metadata": {},
   "outputs": [
    {
     "name": "stdout",
     "output_type": "stream",
     "text": [
      "Addition of two complex numbers :  (17+2j)\n",
      "Subtraction of two complex numbers :  (-1+16j)\n",
      "Multiplication of two complex numbers :  (135+25j)\n",
      "Division of two complex numbers :  (0.06923076923076923+1.0538461538461539j)\n"
     ]
    }
   ],
   "source": [
    "\n",
    "\"\"\"Question 1: Research on whether addition, subtraction, multiplication, division, floor division and modulo\n",
    "operations be performed on complex numbers. Based on your study, implement a Python\n",
    "program to demonstrate these operations.\"\"\"\n",
    "\n",
    "\n",
    "print(\"Addition of two complex numbers : \",(8+9j)+(9-7j))\n",
    "print(\"Subtraction of two complex numbers : \",(8+9j)-(9-7j))\n",
    "print(\"Multiplication of two complex numbers : \",(8+9j)*(9-7j))\n",
    "print(\"Division of two complex numbers : \",(8+9j)/(9-7j))\n",
    "# NOTE: can't take floor division,mod of complex number.\n"
   ]
  },
  {
   "cell_type": "markdown",
   "metadata": {},
   "source": [
    "Question 2 :\n",
    "Research on range() functions and its parameters. Create a markdown cell and write in your own\n",
    "words (no copy-paste from google please) what you understand about it. Implement a small\n",
    "program of your choice on the same.\n",
    "\n",
    "The range() type returns an immutable sequence of numbers between the given start integer to the stop integer.\n",
    "it has 3 parameters as below\n",
    "1.start: starting value.\n",
    "2.stop: The range of integers end at stop – 1.\n",
    "3.step: increment value  "
   ]
  },
  {
   "cell_type": "code",
   "execution_count": 55,
   "metadata": {},
   "outputs": [
    {
     "name": "stdout",
     "output_type": "stream",
     "text": [
      "####Range with starting and ending values####\n",
      "3\n",
      "4\n",
      "5\n",
      "###Range with default#####\n",
      "0\n",
      "1\n",
      "2\n",
      "3\n",
      "4\n",
      "5\n",
      "#####Range with starting and ending , increment values####\n",
      "1\n",
      "3\n",
      "5\n",
      "7\n",
      "9\n",
      "11\n",
      "13\n",
      "15\n",
      "17\n",
      "19\n"
     ]
    }
   ],
   "source": [
    "#Range Example\n",
    "print(\"####Range with starting and ending values####\")\n",
    "x = range(3, 6)\n",
    "\n",
    "for n in x:\n",
    "  print(n)\n",
    "print(\"###Range with default#####\")\n",
    "a = range(6)\n",
    "for j in a: \n",
    "  print(j)\n",
    "\n",
    "print(\"#####Range with starting and ending,increment values####\")\n",
    "y= range(1, 20, 2)\n",
    "\n",
    "for i in y:\n",
    "  print(i)"
   ]
  },
  {
   "cell_type": "code",
   "execution_count": 54,
   "metadata": {},
   "outputs": [
    {
     "name": "stdout",
     "output_type": "stream",
     "text": [
      "the values multiplication result is : 7000\n"
     ]
    }
   ],
   "source": [
    "\"\"\"Question 3:\n",
    " Consider two numbers. Perform their subtraction and if the result of subtraction is greater than\n",
    "25, print their multiplication result else print their division result\"\"\"\n",
    "\n",
    "a=100\n",
    "b=70\n",
    "c=a-b\n",
    "if c > 25:\n",
    "    print(\"the values multiplication result is :\",a*b)\n",
    "else:\n",
    "    print(\"the values division result is :\",a/b)"
   ]
  },
  {
   "cell_type": "code",
   "execution_count": 52,
   "metadata": {},
   "outputs": [
    {
     "name": "stdout",
     "output_type": "stream",
     "text": [
      "square of the number minus 2 : 2\n",
      "square of the number minus 2 : 14\n",
      "square of the number minus 2 : 34\n",
      "square of the number minus 2 : 62\n",
      "square of the number minus 2 : 98\n"
     ]
    }
   ],
   "source": [
    "\"\"\"Question 4:\n",
    "Consider a list of 10 elements of integer values. If the number in the list is divisible by 2, print the\n",
    "result as \"square of that number minus 2\".\"\"\"\n",
    "\n",
    "list=[1,2,3,4,5,6,7,8,9,10]\n",
    "\n",
    "for i in list:\n",
    "    if (i%2 == 0):\n",
    "        print(\"square of the number minus 2 :\",i**2-2)\n",
    "   \n",
    "\n",
    "\n"
   ]
  },
  {
   "cell_type": "code",
   "execution_count": 51,
   "metadata": {},
   "outputs": [
    {
     "name": "stdout",
     "output_type": "stream",
     "text": [
      "the number is : 8\n",
      "the number is : 10\n"
     ]
    }
   ],
   "source": [
    "\"\"\" Question 5: Consider a list of 10 elements. Print all the elements in the list which are greater than 7 when that\n",
    "number is divided 2.\"\"\"\n",
    "\n",
    "list=[1,2,3,4,5,6,7,8,9,10]\n",
    "\n",
    "for i in list:\n",
    "    if(i > 7):    \n",
    "        if (i%2 == 0):\n",
    "            print(\"the number is :\",i)\n",
    "\n"
   ]
  },
  {
   "cell_type": "code",
   "execution_count": null,
   "metadata": {},
   "outputs": [],
   "source": []
  }
 ],
 "metadata": {
  "kernelspec": {
   "display_name": "Python 3",
   "language": "python",
   "name": "python3"
  },
  "language_info": {
   "codemirror_mode": {
    "name": "ipython",
    "version": 3
   },
   "file_extension": ".py",
   "mimetype": "text/x-python",
   "name": "python",
   "nbconvert_exporter": "python",
   "pygments_lexer": "ipython3",
   "version": "3.7.6"
  }
 },
 "nbformat": 4,
 "nbformat_minor": 4
}
